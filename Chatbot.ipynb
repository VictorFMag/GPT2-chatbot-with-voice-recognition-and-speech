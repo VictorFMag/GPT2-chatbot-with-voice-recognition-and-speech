{
 "cells": [
  {
   "cell_type": "markdown",
   "metadata": {},
   "source": [
    "## Model Loading"
   ]
  },
  {
   "cell_type": "code",
   "execution_count": 1,
   "metadata": {},
   "outputs": [
    {
     "name": "stderr",
     "output_type": "stream",
     "text": [
      "C:\\Users\\Windows 10 PRO\\AppData\\Local\\Programs\\Python\\Python311\\Lib\\site-packages\\tqdm\\auto.py:21: TqdmWarning: IProgress not found. Please update jupyter and ipywidgets. See https://ipywidgets.readthedocs.io/en/stable/user_install.html\n",
      "  from .autonotebook import tqdm as notebook_tqdm\n"
     ]
    }
   ],
   "source": [
    "import torch\n",
    "from transformers import GPT2Tokenizer, GPT2LMHeadModel"
   ]
  },
  {
   "cell_type": "code",
   "execution_count": 2,
   "metadata": {},
   "outputs": [],
   "source": [
    "def generate_response(model, tokenizer, prompt, max_length=250):\n",
    "    input_ids = tokenizer.encode(prompt, return_tensors=\"pt\")\n",
    "    \n",
    "    # Cria a máscara de atenção e o pad token id -> Sla o que isso quer dizer na vdd\n",
    "    attention_mask = torch.ones_like(input_ids)\n",
    "    pad_token_id = tokenizer.eos_token_id\n",
    "\n",
    "    output = model.generate(\n",
    "        input_ids,\n",
    "        max_length=max_length,\n",
    "        num_return_sequences=1,\n",
    "        attention_mask=attention_mask,\n",
    "        pad_token_id=pad_token_id\n",
    "    )\n",
    "\n",
    "    return tokenizer.decode(output[0], skip_special_tokens=True)"
   ]
  },
  {
   "cell_type": "code",
   "execution_count": 3,
   "metadata": {},
   "outputs": [],
   "source": [
    "model_path = \"./RAW_MODEL/\" # Diretório onde o modelo está\n",
    "# Carrega o modelo e o tokenizador\n",
    "my_chat_model = GPT2LMHeadModel.from_pretrained(model_path)\n",
    "my_chat_tokenizer = GPT2Tokenizer.from_pretrained(model_path)"
   ]
  },
  {
   "cell_type": "markdown",
   "metadata": {},
   "source": [
    "## Aux functions"
   ]
  },
  {
   "cell_type": "code",
   "execution_count": 4,
   "metadata": {},
   "outputs": [
    {
     "name": "stdout",
     "output_type": "stream",
     "text": [
      "pygame 2.5.2 (SDL 2.28.3, Python 3.11.4)\n",
      "Hello from the pygame community. https://www.pygame.org/contribute.html\n"
     ]
    }
   ],
   "source": [
    "import speech_recognition as sr\n",
    "from googletrans import Translator\n",
    "from gtts import gTTS\n",
    "from pygame import mixer\n",
    "import time"
   ]
  },
  {
   "cell_type": "code",
   "execution_count": 5,
   "metadata": {},
   "outputs": [],
   "source": [
    "# Função para reconhecimento de voz\n",
    "def recognize_speech():\n",
    "    recognizer = sr.Recognizer()\n",
    "    with sr.Microphone() as source:\n",
    "        print(\"Ouvindo...\\n\")\n",
    "        audio = recognizer.listen(source)\n",
    "        try:\n",
    "            text = recognizer.recognize_google(audio, language=\"pt-BR\")\n",
    "            translated_text = translate(text, 'pt', 'en')\n",
    "            print(f\"Você disse: {text}\\n\")\n",
    "            return translated_text.lower()\n",
    "        except sr.UnknownValueError:\n",
    "            print(\"Não foi possível entender o áudio\")\n",
    "            return None\n",
    "        except sr.RequestError as e:\n",
    "            print(f\"Erro na solicitação ao serviço de reconhecimento de voz: {e}\")\n",
    "            return None"
   ]
  },
  {
   "cell_type": "code",
   "execution_count": 6,
   "metadata": {},
   "outputs": [],
   "source": [
    "# Função para traduzir texto\n",
    "def translate(text, src_lang, dest_lang):\n",
    "    translator = Translator()\n",
    "    translated_text = translator.translate(text, src=src_lang, dest=dest_lang)\n",
    "    return translated_text.text"
   ]
  },
  {
   "cell_type": "code",
   "execution_count": 7,
   "metadata": {},
   "outputs": [],
   "source": [
    "# Função para reproduzir áudio\n",
    "def play_audio(audio_text):\n",
    "    myobj = gTTS(text=audio_text, lang=\"pt\", slow=False)\n",
    "    myobj.save(\"./audio/voice.mp3\")\n",
    "    mixer.init()\n",
    "    mixer.music.load('./audio/voice.mp3')\n",
    "    mixer.music.play()\n",
    "    while mixer.music.get_busy():\n",
    "        time.sleep(1)\n",
    "    mixer.music.stop()\n",
    "    mixer.music.unload()"
   ]
  },
  {
   "cell_type": "markdown",
   "metadata": {},
   "source": [
    "## Prompts"
   ]
  },
  {
   "cell_type": "markdown",
   "metadata": {},
   "source": [
    "### Pergunta escrita e resposta escrita"
   ]
  },
  {
   "cell_type": "code",
   "execution_count": 10,
   "metadata": {},
   "outputs": [
    {
     "name": "stdout",
     "output_type": "stream",
     "text": [
      "Generated response: Who are you?\n",
      "\n",
      "I'm a game designer, a programmer, and a creator. I love to build worlds and explore them, and I want to share that experience with as many people as possible.\n",
      "One of the most incredible features of\n"
     ]
    }
   ],
   "source": [
    "prompt = \"Why is Minecraft amazing?\"  # Mudar para o prompt desejado\n",
    "response = generate_response(my_chat_model, my_chat_tokenizer, prompt, max_length=50)\n",
    "print(\"Generated response:\", response)"
   ]
  },
  {
   "cell_type": "markdown",
   "metadata": {},
   "source": [
    "### Resposta em áudio"
   ]
  },
  {
   "cell_type": "code",
   "execution_count": 20,
   "metadata": {},
   "outputs": [
    {
     "name": "stdout",
     "output_type": "stream",
     "text": [
      "Resposta: Por que o Minecraft é incrível?É uma aventura sem fim em um mundo de infinitas possibilidades, onde sua imaginação é o único limite.Desde o momento em que você entra nesse universo virtual, você está envolvido por uma atmosfera única, onde todos os blocos e todas as criaturas escondem segredos e desafiam a espera para serem explorados.\n",
      "Uma das características mais incríveis do Minecraft é sua natureza de sandbox.Aqui, você não é apenas um jogador, mas um criador.Com um movimento simples de mouse, você pode construir castelos majestosos, cidades movimentadas\n"
     ]
    }
   ],
   "source": [
    "prompt = \"Why is Minecraft amazing?\"  # Mudar para o prompt desejado\n",
    "response = generate_response(my_chat_model, my_chat_tokenizer, prompt, max_length=50)\n",
    "translated_response = translate(response, 'en', 'pt')\n",
    "print(\"Resposta:\", translated_response)\n",
    "play_audio(translated_response)"
   ]
  },
  {
   "cell_type": "markdown",
   "metadata": {},
   "source": [
    "### Prompt de fala + resposta em áudio"
   ]
  },
  {
   "cell_type": "code",
   "execution_count": 12,
   "metadata": {},
   "outputs": [
    {
     "name": "stdout",
     "output_type": "stream",
     "text": [
      "Ouvindo...\n",
      "\n",
      "Você disse: Por que o Minecraft é mais do que apenas um jogo\n",
      "Resposta: Por que o Minecraft é mais do que apenas um jogo.É uma aventura sem fim em um mundo de infinitas possibilidades, onde sua imaginação é o único limite.Desde o momento em que você entra nesse universo virtual, você está envolvido por uma atmosfera única, onde\n"
     ]
    }
   ],
   "source": [
    "prompt = recognize_speech()  # Já traduz para o inglês\n",
    "response = generate_response(my_chat_model, my_chat_tokenizer, prompt, max_length=50)\n",
    "translated_response = translate(response, 'en', 'pt')\n",
    "print(\"Resposta:\", translated_response)\n",
    "play_audio(translated_response)"
   ]
  },
  {
   "cell_type": "code",
   "execution_count": null,
   "metadata": {},
   "outputs": [],
   "source": []
  }
 ],
 "metadata": {
  "kernelspec": {
   "display_name": "Python 3 (ipykernel)",
   "language": "python",
   "name": "python3"
  },
  "language_info": {
   "codemirror_mode": {
    "name": "ipython",
    "version": 3
   },
   "file_extension": ".py",
   "mimetype": "text/x-python",
   "name": "python",
   "nbconvert_exporter": "python",
   "pygments_lexer": "ipython3",
   "version": "3.11.4"
  }
 },
 "nbformat": 4,
 "nbformat_minor": 4
}
